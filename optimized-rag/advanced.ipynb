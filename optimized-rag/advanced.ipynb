{
 "cells": [
  {
   "cell_type": "markdown",
   "metadata": {},
   "source": [
    "**Query decomposition**  is a strategy to improve question-answering using the power of LLM by re-writing and rephrasing the user input to improve retrieval process by breaking down a question into well-written sub-questions."
   ]
  },
  {
   "cell_type": "code",
   "execution_count": 14,
   "metadata": {
    "vscode": {
     "languageId": "bat"
    }
   },
   "outputs": [
    {
     "name": "stdout",
     "output_type": "stream",
     "text": [
      "Defaulting to user installation because normal site-packages is not writeable\n",
      "Requirement already satisfied: langchain in /Users/sandramada/Library/Python/3.9/lib/python/site-packages (0.2.10)\n",
      "Requirement already satisfied: langchain-community in /Users/sandramada/Library/Python/3.9/lib/python/site-packages (0.2.9)\n",
      "Requirement already satisfied: langchain-core in /Users/sandramada/Library/Python/3.9/lib/python/site-packages (0.2.22)\n",
      "Requirement already satisfied: langchain-openai in /Users/sandramada/Library/Python/3.9/lib/python/site-packages (0.1.8)\n",
      "Requirement already satisfied: langchain-text-splitters in /Users/sandramada/Library/Python/3.9/lib/python/site-packages (0.2.1)\n",
      "Requirement already satisfied: openai in /Users/sandramada/Library/Python/3.9/lib/python/site-packages (1.34.0)\n",
      "Requirement already satisfied: bs4 in /Users/sandramada/Library/Python/3.9/lib/python/site-packages (0.0.2)\n",
      "Requirement already satisfied: chromadb in /Users/sandramada/Library/Python/3.9/lib/python/site-packages (0.5.0)\n",
      "Requirement already satisfied: python-dotenv in /Users/sandramada/Library/Python/3.9/lib/python/site-packages (1.0.0)\n",
      "Requirement already satisfied: colorama in /Users/sandramada/Library/Python/3.9/lib/python/site-packages (0.4.6)\n",
      "Requirement already satisfied: tqdm in /Users/sandramada/Library/Python/3.9/lib/python/site-packages (4.66.4)\n",
      "Requirement already satisfied: tiktoken in /Users/sandramada/Library/Python/3.9/lib/python/site-packages (0.7.0)\n",
      "Requirement already satisfied: httplib2 in /Users/sandramada/Library/Python/3.9/lib/python/site-packages (0.22.0)\n",
      "Collecting langchainhub\n",
      "  Downloading langchainhub-0.1.20-py3-none-any.whl (5.0 kB)\n",
      "Requirement already satisfied: SQLAlchemy<3,>=1.4 in /Users/sandramada/Library/Python/3.9/lib/python/site-packages (from langchain) (2.0.31)\n",
      "Requirement already satisfied: pydantic<3,>=1 in /Users/sandramada/Library/Python/3.9/lib/python/site-packages (from langchain) (2.8.2)\n",
      "Requirement already satisfied: async-timeout<5.0.0,>=4.0.0 in /Users/sandramada/Library/Python/3.9/lib/python/site-packages (from langchain) (4.0.3)\n",
      "Requirement already satisfied: numpy<2,>=1 in /Users/sandramada/Library/Python/3.9/lib/python/site-packages (from langchain) (1.26.4)\n",
      "Requirement already satisfied: PyYAML>=5.3 in /Users/sandramada/Library/Python/3.9/lib/python/site-packages (from langchain) (6.0.1)\n",
      "Requirement already satisfied: langsmith<0.2.0,>=0.1.17 in /Users/sandramada/Library/Python/3.9/lib/python/site-packages (from langchain) (0.1.83)\n",
      "Requirement already satisfied: requests<3,>=2 in /Users/sandramada/Library/Python/3.9/lib/python/site-packages (from langchain) (2.32.3)\n",
      "Requirement already satisfied: aiohttp<4.0.0,>=3.8.3 in /Users/sandramada/Library/Python/3.9/lib/python/site-packages (from langchain) (3.9.5)\n",
      "Requirement already satisfied: tenacity!=8.4.0,<9.0.0,>=8.1.0 in /Users/sandramada/Library/Python/3.9/lib/python/site-packages (from langchain) (8.5.0)\n",
      "Requirement already satisfied: dataclasses-json<0.7,>=0.5.7 in /Users/sandramada/Library/Python/3.9/lib/python/site-packages (from langchain-community) (0.6.7)\n",
      "Requirement already satisfied: jsonpatch<2.0,>=1.33 in /Users/sandramada/Library/Python/3.9/lib/python/site-packages (from langchain-core) (1.33)\n",
      "Requirement already satisfied: packaging<25,>=23.2 in /Users/sandramada/Library/Python/3.9/lib/python/site-packages (from langchain-core) (23.2)\n",
      "Requirement already satisfied: distro<2,>=1.7.0 in /Users/sandramada/Library/Python/3.9/lib/python/site-packages (from openai) (1.9.0)\n",
      "Requirement already satisfied: anyio<5,>=3.5.0 in /Users/sandramada/Library/Python/3.9/lib/python/site-packages (from openai) (3.7.1)\n",
      "Requirement already satisfied: sniffio in /Users/sandramada/Library/Python/3.9/lib/python/site-packages (from openai) (1.3.1)\n",
      "Requirement already satisfied: typing-extensions<5,>=4.7 in /Users/sandramada/Library/Python/3.9/lib/python/site-packages (from openai) (4.12.2)\n",
      "Requirement already satisfied: httpx<1,>=0.23.0 in /Users/sandramada/Library/Python/3.9/lib/python/site-packages (from openai) (0.27.0)\n",
      "Requirement already satisfied: beautifulsoup4 in /Users/sandramada/Library/Python/3.9/lib/python/site-packages (from bs4) (4.12.3)\n",
      "Requirement already satisfied: posthog>=2.4.0 in /Users/sandramada/Library/Python/3.9/lib/python/site-packages (from chromadb) (3.5.0)\n",
      "Requirement already satisfied: grpcio>=1.58.0 in /Users/sandramada/Library/Python/3.9/lib/python/site-packages (from chromadb) (1.64.1)\n",
      "Requirement already satisfied: kubernetes>=28.1.0 in /Users/sandramada/Library/Python/3.9/lib/python/site-packages (from chromadb) (30.1.0)\n",
      "Requirement already satisfied: fastapi>=0.95.2 in /Users/sandramada/Library/Python/3.9/lib/python/site-packages (from chromadb) (0.111.0)\n",
      "Requirement already satisfied: opentelemetry-exporter-otlp-proto-grpc>=1.2.0 in /Users/sandramada/Library/Python/3.9/lib/python/site-packages (from chromadb) (1.25.0)\n",
      "Requirement already satisfied: onnxruntime>=1.14.1 in /Users/sandramada/Library/Python/3.9/lib/python/site-packages (from chromadb) (1.18.1)\n",
      "Requirement already satisfied: opentelemetry-api>=1.2.0 in /Users/sandramada/Library/Python/3.9/lib/python/site-packages (from chromadb) (1.25.0)\n",
      "Requirement already satisfied: importlib-resources in /Users/sandramada/Library/Python/3.9/lib/python/site-packages (from chromadb) (6.4.0)\n",
      "Requirement already satisfied: orjson>=3.9.12 in /Users/sandramada/Library/Python/3.9/lib/python/site-packages (from chromadb) (3.10.6)\n",
      "Requirement already satisfied: chroma-hnswlib==0.7.3 in /Users/sandramada/Library/Python/3.9/lib/python/site-packages (from chromadb) (0.7.3)\n",
      "Requirement already satisfied: uvicorn[standard]>=0.18.3 in /Users/sandramada/Library/Python/3.9/lib/python/site-packages (from chromadb) (0.30.1)\n",
      "Requirement already satisfied: opentelemetry-sdk>=1.2.0 in /Users/sandramada/Library/Python/3.9/lib/python/site-packages (from chromadb) (1.25.0)\n",
      "Requirement already satisfied: overrides>=7.3.1 in /Users/sandramada/Library/Python/3.9/lib/python/site-packages (from chromadb) (7.7.0)\n",
      "Requirement already satisfied: mmh3>=4.0.1 in /Users/sandramada/Library/Python/3.9/lib/python/site-packages (from chromadb) (4.1.0)\n",
      "Requirement already satisfied: opentelemetry-instrumentation-fastapi>=0.41b0 in /Users/sandramada/Library/Python/3.9/lib/python/site-packages (from chromadb) (0.46b0)\n",
      "Requirement already satisfied: typer>=0.9.0 in /Users/sandramada/Library/Python/3.9/lib/python/site-packages (from chromadb) (0.12.3)\n",
      "Requirement already satisfied: bcrypt>=4.0.1 in /Users/sandramada/Library/Python/3.9/lib/python/site-packages (from chromadb) (4.1.3)\n",
      "Requirement already satisfied: pypika>=0.48.9 in /Users/sandramada/Library/Python/3.9/lib/python/site-packages (from chromadb) (0.48.9)\n",
      "Requirement already satisfied: tokenizers>=0.13.2 in /Users/sandramada/Library/Python/3.9/lib/python/site-packages (from chromadb) (0.19.1)\n",
      "Requirement already satisfied: build>=1.0.3 in /Users/sandramada/Library/Python/3.9/lib/python/site-packages (from chromadb) (1.2.1)\n",
      "Requirement already satisfied: regex>=2022.1.18 in /Users/sandramada/Library/Python/3.9/lib/python/site-packages (from tiktoken) (2024.5.15)\n",
      "Requirement already satisfied: pyparsing!=3.0.0,!=3.0.1,!=3.0.2,!=3.0.3,<4,>=2.4.2 in /Users/sandramada/Library/Python/3.9/lib/python/site-packages (from httplib2) (3.1.2)\n",
      "Collecting types-requests<3.0.0.0,>=2.31.0.2\n",
      "  Downloading types_requests-2.32.0.20240712-py3-none-any.whl (15 kB)\n",
      "Requirement already satisfied: aiosignal>=1.1.2 in /Users/sandramada/Library/Python/3.9/lib/python/site-packages (from aiohttp<4.0.0,>=3.8.3->langchain) (1.3.1)\n",
      "Requirement already satisfied: frozenlist>=1.1.1 in /Users/sandramada/Library/Python/3.9/lib/python/site-packages (from aiohttp<4.0.0,>=3.8.3->langchain) (1.4.1)\n",
      "Requirement already satisfied: multidict<7.0,>=4.5 in /Users/sandramada/Library/Python/3.9/lib/python/site-packages (from aiohttp<4.0.0,>=3.8.3->langchain) (6.0.5)\n",
      "Requirement already satisfied: attrs>=17.3.0 in /Users/sandramada/Library/Python/3.9/lib/python/site-packages (from aiohttp<4.0.0,>=3.8.3->langchain) (23.2.0)\n",
      "Requirement already satisfied: yarl<2.0,>=1.0 in /Users/sandramada/Library/Python/3.9/lib/python/site-packages (from aiohttp<4.0.0,>=3.8.3->langchain) (1.9.4)\n",
      "Requirement already satisfied: idna>=2.8 in /Users/sandramada/Library/Python/3.9/lib/python/site-packages (from anyio<5,>=3.5.0->openai) (3.7)\n",
      "Requirement already satisfied: exceptiongroup in /Users/sandramada/Library/Python/3.9/lib/python/site-packages (from anyio<5,>=3.5.0->openai) (1.2.1)\n",
      "Requirement already satisfied: pyproject_hooks in /Users/sandramada/Library/Python/3.9/lib/python/site-packages (from build>=1.0.3->chromadb) (1.1.0)\n",
      "Requirement already satisfied: importlib-metadata>=4.6 in /Users/sandramada/Library/Python/3.9/lib/python/site-packages (from build>=1.0.3->chromadb) (6.11.0)\n",
      "Requirement already satisfied: tomli>=1.1.0 in /Users/sandramada/Library/Python/3.9/lib/python/site-packages (from build>=1.0.3->chromadb) (2.0.1)\n",
      "Requirement already satisfied: typing-inspect<1,>=0.4.0 in /Users/sandramada/Library/Python/3.9/lib/python/site-packages (from dataclasses-json<0.7,>=0.5.7->langchain-community) (0.9.0)\n",
      "Requirement already satisfied: marshmallow<4.0.0,>=3.18.0 in /Users/sandramada/Library/Python/3.9/lib/python/site-packages (from dataclasses-json<0.7,>=0.5.7->langchain-community) (3.21.3)\n",
      "Requirement already satisfied: fastapi-cli>=0.0.2 in /Users/sandramada/Library/Python/3.9/lib/python/site-packages (from fastapi>=0.95.2->chromadb) (0.0.4)\n",
      "Requirement already satisfied: ujson!=4.0.2,!=4.1.0,!=4.2.0,!=4.3.0,!=5.0.0,!=5.1.0,>=4.0.1 in /Users/sandramada/Library/Python/3.9/lib/python/site-packages (from fastapi>=0.95.2->chromadb) (5.10.0)\n",
      "Requirement already satisfied: jinja2>=2.11.2 in /Users/sandramada/Library/Python/3.9/lib/python/site-packages (from fastapi>=0.95.2->chromadb) (3.1.4)\n",
      "Requirement already satisfied: starlette<0.38.0,>=0.37.2 in /Users/sandramada/Library/Python/3.9/lib/python/site-packages (from fastapi>=0.95.2->chromadb) (0.37.2)\n",
      "Requirement already satisfied: python-multipart>=0.0.7 in /Users/sandramada/Library/Python/3.9/lib/python/site-packages (from fastapi>=0.95.2->chromadb) (0.0.9)\n",
      "Requirement already satisfied: email_validator>=2.0.0 in /Users/sandramada/Library/Python/3.9/lib/python/site-packages (from fastapi>=0.95.2->chromadb) (2.2.0)\n",
      "Requirement already satisfied: dnspython>=2.0.0 in /Users/sandramada/Library/Python/3.9/lib/python/site-packages (from email_validator>=2.0.0->fastapi>=0.95.2->chromadb) (2.6.1)\n",
      "Requirement already satisfied: httpcore==1.* in /Users/sandramada/Library/Python/3.9/lib/python/site-packages (from httpx<1,>=0.23.0->openai) (1.0.5)\n",
      "Requirement already satisfied: certifi in /Users/sandramada/Library/Python/3.9/lib/python/site-packages (from httpx<1,>=0.23.0->openai) (2024.7.4)\n",
      "Requirement already satisfied: h11<0.15,>=0.13 in /Users/sandramada/Library/Python/3.9/lib/python/site-packages (from httpcore==1.*->httpx<1,>=0.23.0->openai) (0.14.0)\n",
      "Requirement already satisfied: zipp>=0.5 in /Users/sandramada/Library/Python/3.9/lib/python/site-packages (from importlib-metadata>=4.6->build>=1.0.3->chromadb) (3.19.2)\n",
      "Requirement already satisfied: MarkupSafe>=2.0 in /Users/sandramada/Library/Python/3.9/lib/python/site-packages (from jinja2>=2.11.2->fastapi>=0.95.2->chromadb) (2.1.5)\n",
      "Requirement already satisfied: jsonpointer>=1.9 in /Users/sandramada/Library/Python/3.9/lib/python/site-packages (from jsonpatch<2.0,>=1.33->langchain-core) (3.0.0)\n",
      "Requirement already satisfied: websocket-client!=0.40.0,!=0.41.*,!=0.42.*,>=0.32.0 in /Users/sandramada/Library/Python/3.9/lib/python/site-packages (from kubernetes>=28.1.0->chromadb) (1.8.0)\n",
      "Requirement already satisfied: urllib3>=1.24.2 in /Users/sandramada/Library/Python/3.9/lib/python/site-packages (from kubernetes>=28.1.0->chromadb) (1.26.6)\n",
      "Requirement already satisfied: oauthlib>=3.2.2 in /Users/sandramada/Library/Python/3.9/lib/python/site-packages (from kubernetes>=28.1.0->chromadb) (3.2.2)\n",
      "Requirement already satisfied: google-auth>=1.0.1 in /Users/sandramada/Library/Python/3.9/lib/python/site-packages (from kubernetes>=28.1.0->chromadb) (2.31.0)\n",
      "Requirement already satisfied: six>=1.9.0 in /Library/Developer/CommandLineTools/Library/Frameworks/Python3.framework/Versions/3.9/lib/python3.9/site-packages (from kubernetes>=28.1.0->chromadb) (1.15.0)\n",
      "Requirement already satisfied: python-dateutil>=2.5.3 in /Users/sandramada/Library/Python/3.9/lib/python/site-packages (from kubernetes>=28.1.0->chromadb) (2.9.0.post0)\n",
      "Requirement already satisfied: requests-oauthlib in /Users/sandramada/Library/Python/3.9/lib/python/site-packages (from kubernetes>=28.1.0->chromadb) (2.0.0)\n",
      "Requirement already satisfied: rsa<5,>=3.1.4 in /Users/sandramada/Library/Python/3.9/lib/python/site-packages (from google-auth>=1.0.1->kubernetes>=28.1.0->chromadb) (4.9)\n",
      "Requirement already satisfied: cachetools<6.0,>=2.0.0 in /Users/sandramada/Library/Python/3.9/lib/python/site-packages (from google-auth>=1.0.1->kubernetes>=28.1.0->chromadb) (5.3.3)\n",
      "Requirement already satisfied: pyasn1-modules>=0.2.1 in /Users/sandramada/Library/Python/3.9/lib/python/site-packages (from google-auth>=1.0.1->kubernetes>=28.1.0->chromadb) (0.4.0)\n",
      "Requirement already satisfied: flatbuffers in /Users/sandramada/Library/Python/3.9/lib/python/site-packages (from onnxruntime>=1.14.1->chromadb) (24.3.25)\n",
      "Requirement already satisfied: coloredlogs in /Users/sandramada/Library/Python/3.9/lib/python/site-packages (from onnxruntime>=1.14.1->chromadb) (15.0.1)\n",
      "Requirement already satisfied: sympy in /Users/sandramada/Library/Python/3.9/lib/python/site-packages (from onnxruntime>=1.14.1->chromadb) (1.12.1)\n",
      "Requirement already satisfied: protobuf in /Users/sandramada/Library/Python/3.9/lib/python/site-packages (from onnxruntime>=1.14.1->chromadb) (4.25.3)\n",
      "Requirement already satisfied: deprecated>=1.2.6 in /Users/sandramada/Library/Python/3.9/lib/python/site-packages (from opentelemetry-api>=1.2.0->chromadb) (1.2.14)\n",
      "Requirement already satisfied: wrapt<2,>=1.10 in /Users/sandramada/Library/Python/3.9/lib/python/site-packages (from deprecated>=1.2.6->opentelemetry-api>=1.2.0->chromadb) (1.16.0)\n",
      "Requirement already satisfied: googleapis-common-protos~=1.52 in /Users/sandramada/Library/Python/3.9/lib/python/site-packages (from opentelemetry-exporter-otlp-proto-grpc>=1.2.0->chromadb) (1.63.2)\n",
      "Requirement already satisfied: opentelemetry-proto==1.25.0 in /Users/sandramada/Library/Python/3.9/lib/python/site-packages (from opentelemetry-exporter-otlp-proto-grpc>=1.2.0->chromadb) (1.25.0)\n",
      "Requirement already satisfied: opentelemetry-exporter-otlp-proto-common==1.25.0 in /Users/sandramada/Library/Python/3.9/lib/python/site-packages (from opentelemetry-exporter-otlp-proto-grpc>=1.2.0->chromadb) (1.25.0)\n",
      "Requirement already satisfied: opentelemetry-semantic-conventions==0.46b0 in /Users/sandramada/Library/Python/3.9/lib/python/site-packages (from opentelemetry-instrumentation-fastapi>=0.41b0->chromadb) (0.46b0)\n",
      "Requirement already satisfied: opentelemetry-instrumentation-asgi==0.46b0 in /Users/sandramada/Library/Python/3.9/lib/python/site-packages (from opentelemetry-instrumentation-fastapi>=0.41b0->chromadb) (0.46b0)\n",
      "Requirement already satisfied: opentelemetry-instrumentation==0.46b0 in /Users/sandramada/Library/Python/3.9/lib/python/site-packages (from opentelemetry-instrumentation-fastapi>=0.41b0->chromadb) (0.46b0)\n",
      "Requirement already satisfied: opentelemetry-util-http==0.46b0 in /Users/sandramada/Library/Python/3.9/lib/python/site-packages (from opentelemetry-instrumentation-fastapi>=0.41b0->chromadb) (0.46b0)\n",
      "Requirement already satisfied: setuptools>=16.0 in /Library/Developer/CommandLineTools/Library/Frameworks/Python3.framework/Versions/3.9/lib/python3.9/site-packages (from opentelemetry-instrumentation==0.46b0->opentelemetry-instrumentation-fastapi>=0.41b0->chromadb) (58.0.4)\n",
      "Requirement already satisfied: asgiref~=3.0 in /Users/sandramada/Library/Python/3.9/lib/python/site-packages (from opentelemetry-instrumentation-asgi==0.46b0->opentelemetry-instrumentation-fastapi>=0.41b0->chromadb) (3.8.1)\n",
      "Requirement already satisfied: monotonic>=1.5 in /Users/sandramada/Library/Python/3.9/lib/python/site-packages (from posthog>=2.4.0->chromadb) (1.6)\n",
      "Requirement already satisfied: backoff>=1.10.0 in /Users/sandramada/Library/Python/3.9/lib/python/site-packages (from posthog>=2.4.0->chromadb) (2.2.1)\n",
      "Requirement already satisfied: pyasn1<0.7.0,>=0.4.6 in /Users/sandramada/Library/Python/3.9/lib/python/site-packages (from pyasn1-modules>=0.2.1->google-auth>=1.0.1->kubernetes>=28.1.0->chromadb) (0.6.0)\n",
      "Requirement already satisfied: pydantic-core==2.20.1 in /Users/sandramada/Library/Python/3.9/lib/python/site-packages (from pydantic<3,>=1->langchain) (2.20.1)\n",
      "Requirement already satisfied: annotated-types>=0.4.0 in /Users/sandramada/Library/Python/3.9/lib/python/site-packages (from pydantic<3,>=1->langchain) (0.7.0)\n",
      "Requirement already satisfied: charset-normalizer<4,>=2 in /Users/sandramada/Library/Python/3.9/lib/python/site-packages (from requests<3,>=2->langchain) (3.3.2)\n",
      "Requirement already satisfied: greenlet!=0.4.17 in /Users/sandramada/Library/Python/3.9/lib/python/site-packages (from SQLAlchemy<3,>=1.4->langchain) (3.0.3)\n",
      "Requirement already satisfied: huggingface-hub<1.0,>=0.16.4 in /Users/sandramada/Library/Python/3.9/lib/python/site-packages (from tokenizers>=0.13.2->chromadb) (0.23.4)\n",
      "Requirement already satisfied: fsspec>=2023.5.0 in /Users/sandramada/Library/Python/3.9/lib/python/site-packages (from huggingface-hub<1.0,>=0.16.4->tokenizers>=0.13.2->chromadb) (2024.6.1)\n",
      "Requirement already satisfied: filelock in /Users/sandramada/Library/Python/3.9/lib/python/site-packages (from huggingface-hub<1.0,>=0.16.4->tokenizers>=0.13.2->chromadb) (3.15.4)\n",
      "Requirement already satisfied: shellingham>=1.3.0 in /Users/sandramada/Library/Python/3.9/lib/python/site-packages (from typer>=0.9.0->chromadb) (1.5.4)\n",
      "Requirement already satisfied: click>=8.0.0 in /Users/sandramada/Library/Python/3.9/lib/python/site-packages (from typer>=0.9.0->chromadb) (8.1.7)\n",
      "Requirement already satisfied: rich>=10.11.0 in /Users/sandramada/Library/Python/3.9/lib/python/site-packages (from typer>=0.9.0->chromadb) (13.7.1)\n",
      "Requirement already satisfied: pygments<3.0.0,>=2.13.0 in /Users/sandramada/Library/Python/3.9/lib/python/site-packages (from rich>=10.11.0->typer>=0.9.0->chromadb) (2.18.0)\n",
      "Requirement already satisfied: markdown-it-py>=2.2.0 in /Users/sandramada/Library/Python/3.9/lib/python/site-packages (from rich>=10.11.0->typer>=0.9.0->chromadb) (3.0.0)\n",
      "Requirement already satisfied: mdurl~=0.1 in /Users/sandramada/Library/Python/3.9/lib/python/site-packages (from markdown-it-py>=2.2.0->rich>=10.11.0->typer>=0.9.0->chromadb) (0.1.2)\n",
      "Collecting urllib3>=1.24.2\n",
      "  Downloading urllib3-2.2.2-py3-none-any.whl (121 kB)\n",
      "\u001b[K     |████████████████████████████████| 121 kB 3.1 MB/s eta 0:00:01\n",
      "\u001b[?25hRequirement already satisfied: mypy-extensions>=0.3.0 in /Users/sandramada/Library/Python/3.9/lib/python/site-packages (from typing-inspect<1,>=0.4.0->dataclasses-json<0.7,>=0.5.7->langchain-community) (1.0.0)\n",
      "Requirement already satisfied: watchfiles>=0.13 in /Users/sandramada/Library/Python/3.9/lib/python/site-packages (from uvicorn[standard]>=0.18.3->chromadb) (0.22.0)\n",
      "Requirement already satisfied: uvloop!=0.15.0,!=0.15.1,>=0.14.0 in /Users/sandramada/Library/Python/3.9/lib/python/site-packages (from uvicorn[standard]>=0.18.3->chromadb) (0.19.0)\n",
      "Requirement already satisfied: websockets>=10.4 in /Users/sandramada/Library/Python/3.9/lib/python/site-packages (from uvicorn[standard]>=0.18.3->chromadb) (12.0)\n",
      "Requirement already satisfied: httptools>=0.5.0 in /Users/sandramada/Library/Python/3.9/lib/python/site-packages (from uvicorn[standard]>=0.18.3->chromadb) (0.6.1)\n",
      "Requirement already satisfied: soupsieve>1.2 in /Users/sandramada/Library/Python/3.9/lib/python/site-packages (from beautifulsoup4->bs4) (2.5)\n",
      "Requirement already satisfied: humanfriendly>=9.1 in /Users/sandramada/Library/Python/3.9/lib/python/site-packages (from coloredlogs->onnxruntime>=1.14.1->chromadb) (10.0)\n",
      "Requirement already satisfied: mpmath<1.4.0,>=1.1.0 in /Users/sandramada/Library/Python/3.9/lib/python/site-packages (from sympy->onnxruntime>=1.14.1->chromadb) (1.3.0)\n",
      "Installing collected packages: urllib3, types-requests, langchainhub\n",
      "  Attempting uninstall: urllib3\n",
      "    Found existing installation: urllib3 1.26.6\n",
      "    Uninstalling urllib3-1.26.6:\n",
      "      Successfully uninstalled urllib3-1.26.6\n",
      "Successfully installed langchainhub-0.1.20 types-requests-2.32.0.20240712 urllib3-2.2.2\n",
      "\u001b[33mWARNING: You are using pip version 21.2.4; however, version 24.1.2 is available.\n",
      "You should consider upgrading via the '/Library/Developer/CommandLineTools/usr/bin/python3 -m pip install --upgrade pip' command.\u001b[0m\n",
      "Note: you may need to restart the kernel to use updated packages.\n"
     ]
    }
   ],
   "source": [
    "pip install langchain langchain-community langchain-core langchain-openai langchain-text-splitters openai bs4 chromadb python-dotenv colorama tqdm tiktoken httplib2 langchainhub"
   ]
  },
  {
   "cell_type": "markdown",
   "metadata": {},
   "source": [
    "utils.py"
   ]
  },
  {
   "cell_type": "code",
   "execution_count": 3,
   "metadata": {},
   "outputs": [],
   "source": [
    "from colorama import Fore\n",
    "\n",
    "\n",
    "def format_qa_pair(question, answer):\n",
    "    \"\"\"Pairing and format Q and A\"\"\"\n",
    "    \n",
    "    formatted_string = \"\"\n",
    "    formatted_string += f\"{Fore.GREEN}Question: {question}{Fore.RESET}\\n{Fore.WHITE}Answer: {answer}\\n\\n {Fore.RESET}\"\n",
    "    print(\"=====  QUESTION/ANSWER PAIRS: =====\")\n",
    "    print(formatted_string.strip())\n",
    "    return formatted_string.strip()\n",
    "\n",
    "\n",
    "def format_qa_pairs(questions, answers):\n",
    "    \"\"\"Format Q and A pairs\"\"\"\n",
    "    \n",
    "    formatted_string = \"\"\n",
    "    for i, (question, answer) in enumerate(zip(questions, answers), start=1):\n",
    "        formatted_string += f\"Question {i}: {question}\\nAnswer {i}: {answer}\\n\\n\"\n",
    "    return formatted_string.strip()"
   ]
  },
  {
   "cell_type": "code",
   "execution_count": 4,
   "metadata": {},
   "outputs": [],
   "source": [
    "\n",
    "import bs4\n",
    "from dotenv import load_dotenv\n",
    "from langchain import hub\n",
    "from operator import itemgetter\n",
    "from langchain_community.document_loaders import WebBaseLoader\n",
    "from langchain.text_splitter import RecursiveCharacterTextSplitter\n",
    "from langchain_core.output_parsers import StrOutputParser\n",
    "from langchain_core.prompts import ChatPromptTemplate\n",
    "\n",
    "from langchain_community.vectorstores import Chroma\n",
    "from langchain_openai import ChatOpenAI, OpenAIEmbeddings\n",
    "\n",
    "from colorama import Fore\n",
    "import warnings\n",
    "\n",
    "warnings.filterwarnings(\"ignore\")\n",
    "\n",
    "load_dotenv()\n",
    "\n",
    "# LLM\n",
    "llm = ChatOpenAI()"
   ]
  },
  {
   "cell_type": "code",
   "execution_count": 34,
   "metadata": {},
   "outputs": [],
   "source": [
    "def index_documents(documents):\n",
    "    # Index and load embeddings\n",
    "    vectorstore = Chroma.from_documents(documents=documents, \n",
    "                                    embedding=OpenAIEmbeddings())\n",
    "\n",
    "    # Create the vector store\n",
    "    return vectorstore.as_retriever()"
   ]
  },
  {
   "cell_type": "markdown",
   "metadata": {},
   "source": [
    "# 1. DECOMPOSITION"
   ]
  },
  {
   "cell_type": "code",
   "execution_count": 6,
   "metadata": {},
   "outputs": [],
   "source": [
    "template = \"\"\"You are a helpful assistant trained to generates multiple sub-questions related to an input question. \\n\n",
    "The goal is to break down the input into a set of sub-problems / sub-questions that can be answered in isolation. \\n\n",
    "Generate multiple search queries related to: {question} \\n\n",
    "Output (3 queries):\"\"\"\n",
    "prompt_decomposition = ChatPromptTemplate.from_template(template)"
   ]
  },
  {
   "cell_type": "code",
   "execution_count": 37,
   "metadata": {},
   "outputs": [],
   "source": [
    "def  generate_sub_questions(query):\n",
    "    generate_queries_decomposition = (\n",
    "        prompt_decomposition \n",
    "        | llm \n",
    "        | StrOutputParser()\n",
    "        | (lambda x: x.split(\"\\n\"))\n",
    "    ) \n",
    "\n",
    "    # Run\n",
    "    sub_questions = generate_queries_decomposition.invoke({\"question\": query})\n",
    "    questions_str = \"\\n\".join(sub_questions)\n",
    "    print(Fore.MAGENTA + \"=====  SUBQUESTIONS: =====\" + Fore.RESET)\n",
    "    print(Fore.WHITE + questions_str + Fore.RESET + \"\\n\") \n",
    "    return sub_questions"
   ]
  },
  {
   "cell_type": "markdown",
   "metadata": {},
   "source": [
    "# 2. ANSWER SUBQUESTIONS RECURSIVELY "
   ]
  },
  {
   "cell_type": "code",
   "execution_count": 10,
   "metadata": {},
   "outputs": [],
   "source": [
    "template = \"\"\"Here is the question you need to answer:\n",
    "\n",
    "\\n --- \\n {sub_question} \\n --- \\n\n",
    "\n",
    "Here is any available background question + answer pairs:\n",
    "\n",
    "\\n --- \\n {q_a_pairs} \\n --- \\n\n",
    "\n",
    "Here is additional context relevant to the question: \n",
    "\n",
    "\\n --- \\n {context} \\n --- \\n\n",
    "\n",
    "Use the above context and any background question + answer pairs to answer the question: \\n {sub_question}\n",
    "\"\"\"\n",
    "prompt_qa = ChatPromptTemplate.from_template(template)"
   ]
  },
  {
   "cell_type": "code",
   "execution_count": 40,
   "metadata": {},
   "outputs": [],
   "source": [
    "def generate_qa_pairs(retriever, sub_questions):\n",
    "    \"\"\" ask the LLM to generate a pair of question and answer based on the original user query \"\"\"\n",
    "    q_a_pairs = \"\"\n",
    "\n",
    "    for sub_question in sub_questions:\n",
    "        # chain\n",
    "        generate_qa = (\n",
    "            {\"context\": itemgetter(\"sub_question\") | retriever, \"sub_question\": itemgetter(\"sub_question\"), \"q_a_pairs\": itemgetter(\"q_a_pairs\")}\n",
    "            | prompt_qa \n",
    "            | llm \n",
    "            | StrOutputParser()\n",
    "        )\n",
    "        answer = generate_qa.invoke({\"sub_question\": sub_question, \"q_a_pairs\": q_a_pairs})\n",
    "        q_a_pair = format_qa_pair(sub_question, answer)\n",
    "        q_a_pairs = q_a_pairs + \"\\n --- \\n\" + q_a_pair \n",
    "    \n",
    "    \n",
    "        "
   ]
  },
  {
   "cell_type": "markdown",
   "metadata": {},
   "source": [
    "# 3. ANSWER INDIVIDUALY"
   ]
  },
  {
   "cell_type": "code",
   "execution_count": 27,
   "metadata": {},
   "outputs": [],
   "source": [
    "from langchain import hub"
   ]
  },
  {
   "cell_type": "code",
   "execution_count": 15,
   "metadata": {},
   "outputs": [],
   "source": [
    "prompt_rag = hub.pull(\"rlm/rag-prompt\")"
   ]
  },
  {
   "cell_type": "code",
   "execution_count": 41,
   "metadata": {},
   "outputs": [],
   "source": [
    "def retrieve_and_rag(retriever, sub_questions):\n",
    "    rag_results = []\n",
    "    for sub_question in sub_questions:\n",
    "        retrieved_docs = retriever.get_relevant_documents(sub_question)\n",
    "\n",
    "        answer_chain = (\n",
    "            prompt_rag\n",
    "            | llm\n",
    "            | StrOutputParser()\n",
    "        )\n",
    "        answer = answer_chain.invoke({\"question\": sub_question, \"context\": retrieved_docs})\n",
    "        rag_results.append(answer)\n",
    "\n",
    "    return rag_results, sub_questions"
   ]
  },
  {
   "cell_type": "code",
   "execution_count": 17,
   "metadata": {},
   "outputs": [
    {
     "name": "stdout",
     "output_type": "stream",
     "text": [
      "Defaulting to user installation because normal site-packages is not writeable\n",
      "Requirement already satisfied: httplib2 in /Users/sandramada/Library/Python/3.9/lib/python/site-packages (0.22.0)\n",
      "Requirement already satisfied: pyparsing!=3.0.0,!=3.0.1,!=3.0.2,!=3.0.3,<4,>=2.4.2 in /Users/sandramada/Library/Python/3.9/lib/python/site-packages (from httplib2) (3.1.2)\n",
      "\u001b[33mWARNING: You are using pip version 21.2.4; however, version 24.1.2 is available.\n",
      "You should consider upgrading via the '/Library/Developer/CommandLineTools/usr/bin/python3 -m pip install --upgrade pip' command.\u001b[0m\n",
      "Note: you may need to restart the kernel to use updated packages.\n"
     ]
    }
   ],
   "source": [
    "pip install httplib2"
   ]
  },
  {
   "cell_type": "code",
   "execution_count": 29,
   "metadata": {},
   "outputs": [],
   "source": [
    "import httplib2\n",
    "from bs4 import BeautifulSoup, SoupStrainer\n",
    "\n",
    "http = httplib2.Http()\n",
    "\n",
    "def get_links(url):\n",
    "    status, response = http.request(url)\n",
    "    links = []\n",
    "    for link in BeautifulSoup(response, parse_only=SoupStrainer('a')):\n",
    "        if link.has_attr('href'):\n",
    "            links.append(f\"https://www.paulgraham.com/{link.attrs['href']}\")\n",
    "    return links"
   ]
  },
  {
   "cell_type": "code",
   "execution_count": 30,
   "metadata": {},
   "outputs": [],
   "source": [
    "from langchain.schema import StrOutputParser\n",
    "from langchain.schema.runnable import RunnablePassthrough\n",
    "import bs4\n",
    "\n",
    "url = 'https://www.paulgraham.com/articles.html'\n",
    "\n",
    "links = get_links(url)\n",
    "loader = WebBaseLoader(\n",
    "    web_paths=list(links),\n",
    "    bs_kwargs=dict(\n",
    "        parse_only=bs4.SoupStrainer(\n",
    "            class_=(\"table\")\n",
    "        )\n",
    "    ),\n",
    ")\n",
    "\n",
    "raw_text = loader.load()\n"
   ]
  },
  {
   "cell_type": "markdown",
   "metadata": {},
   "source": [
    "# 4. SUMMARIZE AND ANSWER "
   ]
  },
  {
   "cell_type": "code",
   "execution_count": 31,
   "metadata": {},
   "outputs": [],
   "source": [
    "from langchain_openai import ChatOpenAI\n",
    "from langchain.prompts.chat import (\n",
    "    HumanMessagePromptTemplate,\n",
    "    SystemMessagePromptTemplate,\n",
    ")\n",
    "from langchain.prompts import ChatPromptTemplate, PromptTemplate\n",
    "\n",
    "\n",
    "template = \"\"\"Here is a set of Q+A pairs:\n",
    "Paul Graham is known for his influential essays on startups, technology, programming, \n",
    "and life in general. He is a co-founder of Y Combinator, a prominent startup accelerator, \n",
    "and has written numerous essays that have inspired many entrepreneurs and technologists.\n",
    "You assist users with general inquiries and {question} based on {context} /\n",
    "\"\"\"\n",
    "\n",
    "system_message_prompt = SystemMessagePromptTemplate.from_template(template)\n",
    "human_message_prompt = HumanMessagePromptTemplate.from_template(\n",
    "    input_variables=[\"question\", \"context\"],\n",
    "    template=\"{question}\",\n",
    ")\n",
    "chat_prompt_template = ChatPromptTemplate.from_messages(\n",
    "    [system_message_prompt, human_message_prompt]\n",
    ")\n"
   ]
  },
  {
   "cell_type": "code",
   "execution_count": 42,
   "metadata": {},
   "outputs": [],
   "source": [
    "def query(question):\n",
    "    retriever = index_documents(raw_text)\n",
    "    sub_questions = generate_sub_questions(query)\n",
    "    generate_qa_pairs(retriever,  sub_questions)\n",
    "    answers, questions = retrieve_and_rag(retriever, sub_questions)\n",
    "    context = format_qa_pairs(questions, answers)\n",
    "\n",
    "    final_rag_chain = (\n",
    "        {\"question\": RunnablePassthrough(), \"context\": retriever}\n",
    "        | chat_prompt_template\n",
    "        | llm\n",
    "        | StrOutputParser()\n",
    "    )\n",
    "\n",
    "    return final_rag_chain.invoke(question)"
   ]
  },
  {
   "cell_type": "markdown",
   "metadata": {},
   "source": [
    "<span style=\"color:#8e44ad\">Try it Out!</span>"
   ]
  },
  {
   "cell_type": "code",
   "execution_count": 43,
   "metadata": {},
   "outputs": [
    {
     "name": "stdout",
     "output_type": "stream",
     "text": [
      "\u001b[35m=====  SUBQUESTIONS: =====\u001b[39m\n",
      "\u001b[37m1. What is the purpose of the function query at memory address 0x10e3a1790?\n",
      "2. How is the function query at memory address 0x10e3a1790 implemented?\n",
      "3. Are there any known issues or bugs related to the function query at memory address 0x10e3a1790?\u001b[39m\n",
      "\n",
      "=====  QUESTION/ANSWER PAIRS: =====\n",
      "\u001b[32mQuestion: 1. What is the purpose of the function query at memory address 0x10e3a1790?\u001b[39m\n",
      "\u001b[37mAnswer: Without specific information on the function at memory address 0x10e3a1790, it is not possible to determine its purpose. The provided context does not offer any details related to this memory address or function.\n",
      "\n",
      " \u001b[39m\n",
      "=====  QUESTION/ANSWER PAIRS: =====\n",
      "\u001b[32mQuestion: 2. How is the function query at memory address 0x10e3a1790 implemented?\u001b[39m\n",
      "\u001b[37mAnswer: Without specific information on the implementation details of the function at memory address 0x10e3a1790, it is not possible to determine how it is implemented. Additional context or source code related to this specific memory address would be needed to analyze the implementation of the function query.\n",
      "\n",
      " \u001b[39m\n",
      "=====  QUESTION/ANSWER PAIRS: =====\n",
      "\u001b[32mQuestion: 3. Are there any known issues or bugs related to the function query at memory address 0x10e3a1790?\u001b[39m\n",
      "\u001b[37mAnswer: Based on the provided context and background information, it is not possible to determine if there are any known issues or bugs related to the function query at memory address 0x10e3a1790. Without specific details or implementation information about the function at that memory address, it is difficult to assess any potential issues or bugs associated with it. Additional information or analysis would be needed to determine if there are any known problems with this function.\n",
      "\n",
      " \u001b[39m\n",
      "\u001b[32mTo write Python, you can follow these steps:\n",
      "\n",
      "1. Install Python: Visit the official Python website and download the latest version of Python for your operating system. Follow the installation instructions to set up Python on your computer.\n",
      "\n",
      "2. Choose a text editor or an Integrated Development Environment (IDE): You can write Python code in any text editor like Notepad, Sublime Text, or use specialized IDEs like PyCharm, Visual Studio Code, or Jupyter Notebook.\n",
      "\n",
      "3. Start writing Python code: Once you have Python installed and a text editor ready, you can start writing Python code. Python is known for its readability and simplicity, making it a great language for beginners.\n",
      "\n",
      "4. Learn the basics: Familiarize yourself with basic Python syntax, data types, control structures (if statements, loops), functions, and modules. You can find many online tutorials, courses, and resources to help you learn Python.\n",
      "\n",
      "5. Practice coding: The best way to learn Python (or any programming language) is to practice writing code regularly. Try solving coding challenges, working on small projects, or contributing to open-source projects.\n",
      "\n",
      "6. Seek help when needed: Don't hesitate to ask questions on online forums like Stack Overflow, join Python communities, or refer to Python documentation for help with specific problems.\n",
      "\n",
      "Remember, writing Python code is a skill that improves with practice and experience. Good luck!\u001b[39m\n"
     ]
    }
   ],
   "source": [
    "response = query(\"how do I write Python?\")\n",
    "print(f\"{Fore.GREEN}{response}{Fore.RESET}\")"
   ]
  }
 ],
 "metadata": {
  "kernelspec": {
   "display_name": "Python 3",
   "language": "python",
   "name": "python3"
  },
  "language_info": {
   "codemirror_mode": {
    "name": "ipython",
    "version": 3
   },
   "file_extension": ".py",
   "mimetype": "text/x-python",
   "name": "python",
   "nbconvert_exporter": "python",
   "pygments_lexer": "ipython3",
   "version": "3.9.6"
  }
 },
 "nbformat": 4,
 "nbformat_minor": 2
}
