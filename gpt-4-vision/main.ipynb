{
 "cells": [
  {
   "cell_type": "markdown",
   "metadata": {},
   "source": [
    "### 🖼️ - Image understanding with Vision\n",
    "GPT-models with vision capabilities to understand and describe images."
   ]
  },
  {
   "cell_type": "code",
   "execution_count": 5,
   "metadata": {},
   "outputs": [],
   "source": [
    "from openai import OpenAI\n",
    "from dotenv import load_dotenv\n",
    "from colorama import Fore\n",
    "\n",
    "load_dotenv()\n",
    "\n",
    "client = OpenAI()\n",
    "MODEL = \"gpt-4-turbo\"\n",
    "PROMPT = \"Identify and describe in 2 sentences what’s in this image?\"\n",
    "IMAGE_URL = \"https://images.unsplash.com/photo-1720206811364-684e8f8e803f?w=400&auto=format&fit=crop&q=60&ixlib=rb-4.0.3&ixid=M3wxMjA3fDB8MHxmZWF0dXJlZC1waG90b3MtZmVlZHwzfHx8ZW58MHx8fHx8\""
   ]
  },
  {
   "cell_type": "code",
   "execution_count": 6,
   "metadata": {
    "vscode": {
     "languageId": "bat"
    }
   },
   "outputs": [
    {
     "name": "stdout",
     "output_type": "stream",
     "text": [
      "Defaulting to user installation because normal site-packages is not writeable\n",
      "Requirement already satisfied: openai==1.3.5 in /Users/sandramada/Library/Python/3.9/lib/python/site-packages (from -r requirements.txt (line 1)) (1.3.5)\n",
      "Requirement already satisfied: python-dotenv==1.0.0 in /Users/sandramada/Library/Python/3.9/lib/python/site-packages (from -r requirements.txt (line 2)) (1.0.0)\n",
      "Requirement already satisfied: streamlit==1.28.2 in /Users/sandramada/Library/Python/3.9/lib/python/site-packages (from -r requirements.txt (line 3)) (1.28.2)\n",
      "Requirement already satisfied: whisper==1.1.10 in /Users/sandramada/Library/Python/3.9/lib/python/site-packages (from -r requirements.txt (line 4)) (1.1.10)\n",
      "Requirement already satisfied: tqdm>4 in /Users/sandramada/Library/Python/3.9/lib/python/site-packages (from openai==1.3.5->-r requirements.txt (line 1)) (4.66.4)\n",
      "Requirement already satisfied: typing-extensions<5,>=4.5 in /Users/sandramada/Library/Python/3.9/lib/python/site-packages (from openai==1.3.5->-r requirements.txt (line 1)) (4.12.2)\n",
      "Requirement already satisfied: httpx<1,>=0.23.0 in /Users/sandramada/Library/Python/3.9/lib/python/site-packages (from openai==1.3.5->-r requirements.txt (line 1)) (0.27.0)\n",
      "Requirement already satisfied: pydantic<3,>=1.9.0 in /Users/sandramada/Library/Python/3.9/lib/python/site-packages (from openai==1.3.5->-r requirements.txt (line 1)) (2.8.2)\n",
      "Requirement already satisfied: anyio<4,>=3.5.0 in /Users/sandramada/Library/Python/3.9/lib/python/site-packages (from openai==1.3.5->-r requirements.txt (line 1)) (3.7.1)\n",
      "Requirement already satisfied: distro<2,>=1.7.0 in /Users/sandramada/Library/Python/3.9/lib/python/site-packages (from openai==1.3.5->-r requirements.txt (line 1)) (1.9.0)\n",
      "Requirement already satisfied: altair<6,>=4.0 in /Users/sandramada/Library/Python/3.9/lib/python/site-packages (from streamlit==1.28.2->-r requirements.txt (line 3)) (5.3.0)\n",
      "Requirement already satisfied: rich<14,>=10.14.0 in /Users/sandramada/Library/Python/3.9/lib/python/site-packages (from streamlit==1.28.2->-r requirements.txt (line 3)) (13.7.1)\n",
      "Requirement already satisfied: protobuf<5,>=3.20 in /Users/sandramada/Library/Python/3.9/lib/python/site-packages (from streamlit==1.28.2->-r requirements.txt (line 3)) (4.25.3)\n",
      "Requirement already satisfied: packaging<24,>=16.8 in /Users/sandramada/Library/Python/3.9/lib/python/site-packages (from streamlit==1.28.2->-r requirements.txt (line 3)) (23.2)\n",
      "Requirement already satisfied: pillow<11,>=7.1.0 in /Users/sandramada/Library/Python/3.9/lib/python/site-packages (from streamlit==1.28.2->-r requirements.txt (line 3)) (10.4.0)\n",
      "Requirement already satisfied: tzlocal<6,>=1.1 in /Users/sandramada/Library/Python/3.9/lib/python/site-packages (from streamlit==1.28.2->-r requirements.txt (line 3)) (5.2)\n",
      "Requirement already satisfied: validators<1,>=0.2 in /Users/sandramada/Library/Python/3.9/lib/python/site-packages (from streamlit==1.28.2->-r requirements.txt (line 3)) (0.30.0)\n",
      "Requirement already satisfied: click<9,>=7.0 in /Users/sandramada/Library/Python/3.9/lib/python/site-packages (from streamlit==1.28.2->-r requirements.txt (line 3)) (8.1.7)\n",
      "Requirement already satisfied: cachetools<6,>=4.0 in /Users/sandramada/Library/Python/3.9/lib/python/site-packages (from streamlit==1.28.2->-r requirements.txt (line 3)) (5.3.3)\n",
      "Requirement already satisfied: python-dateutil<3,>=2.7.3 in /Users/sandramada/Library/Python/3.9/lib/python/site-packages (from streamlit==1.28.2->-r requirements.txt (line 3)) (2.9.0.post0)\n",
      "Requirement already satisfied: toml<2,>=0.10.1 in /Users/sandramada/Library/Python/3.9/lib/python/site-packages (from streamlit==1.28.2->-r requirements.txt (line 3)) (0.10.2)\n",
      "Requirement already satisfied: tenacity<9,>=8.1.0 in /Users/sandramada/Library/Python/3.9/lib/python/site-packages (from streamlit==1.28.2->-r requirements.txt (line 3)) (8.5.0)\n",
      "Requirement already satisfied: tornado<7,>=6.0.3 in /Users/sandramada/Library/Python/3.9/lib/python/site-packages (from streamlit==1.28.2->-r requirements.txt (line 3)) (6.4.1)\n",
      "Requirement already satisfied: importlib-metadata<7,>=1.4 in /Users/sandramada/Library/Python/3.9/lib/python/site-packages (from streamlit==1.28.2->-r requirements.txt (line 3)) (6.11.0)\n",
      "Requirement already satisfied: numpy<2,>=1.19.3 in /Users/sandramada/Library/Python/3.9/lib/python/site-packages (from streamlit==1.28.2->-r requirements.txt (line 3)) (1.26.4)\n",
      "Requirement already satisfied: pyarrow>=6.0 in /Users/sandramada/Library/Python/3.9/lib/python/site-packages (from streamlit==1.28.2->-r requirements.txt (line 3)) (16.1.0)\n",
      "Requirement already satisfied: pandas<3,>=1.3.0 in /Users/sandramada/Library/Python/3.9/lib/python/site-packages (from streamlit==1.28.2->-r requirements.txt (line 3)) (2.2.2)\n",
      "Requirement already satisfied: gitpython!=3.1.19,<4,>=3.0.7 in /Users/sandramada/Library/Python/3.9/lib/python/site-packages (from streamlit==1.28.2->-r requirements.txt (line 3)) (3.1.43)\n",
      "Requirement already satisfied: requests<3,>=2.27 in /Users/sandramada/Library/Python/3.9/lib/python/site-packages (from streamlit==1.28.2->-r requirements.txt (line 3)) (2.32.3)\n",
      "Requirement already satisfied: pydeck<1,>=0.8.0b4 in /Users/sandramada/Library/Python/3.9/lib/python/site-packages (from streamlit==1.28.2->-r requirements.txt (line 3)) (0.9.1)\n",
      "Requirement already satisfied: blinker<2,>=1.0.0 in /Users/sandramada/Library/Python/3.9/lib/python/site-packages (from streamlit==1.28.2->-r requirements.txt (line 3)) (1.8.2)\n",
      "Requirement already satisfied: six in /Library/Developer/CommandLineTools/Library/Frameworks/Python3.framework/Versions/3.9/lib/python3.9/site-packages (from whisper==1.1.10->-r requirements.txt (line 4)) (1.15.0)\n",
      "Requirement already satisfied: toolz in /Users/sandramada/Library/Python/3.9/lib/python/site-packages (from altair<6,>=4.0->streamlit==1.28.2->-r requirements.txt (line 3)) (0.12.1)\n",
      "Requirement already satisfied: jinja2 in /Users/sandramada/Library/Python/3.9/lib/python/site-packages (from altair<6,>=4.0->streamlit==1.28.2->-r requirements.txt (line 3)) (3.1.4)\n",
      "Requirement already satisfied: jsonschema>=3.0 in /Users/sandramada/Library/Python/3.9/lib/python/site-packages (from altair<6,>=4.0->streamlit==1.28.2->-r requirements.txt (line 3)) (4.22.0)\n",
      "Requirement already satisfied: idna>=2.8 in /Users/sandramada/Library/Python/3.9/lib/python/site-packages (from anyio<4,>=3.5.0->openai==1.3.5->-r requirements.txt (line 1)) (3.7)\n",
      "Requirement already satisfied: sniffio>=1.1 in /Users/sandramada/Library/Python/3.9/lib/python/site-packages (from anyio<4,>=3.5.0->openai==1.3.5->-r requirements.txt (line 1)) (1.3.1)\n",
      "Requirement already satisfied: exceptiongroup in /Users/sandramada/Library/Python/3.9/lib/python/site-packages (from anyio<4,>=3.5.0->openai==1.3.5->-r requirements.txt (line 1)) (1.2.1)\n",
      "Requirement already satisfied: gitdb<5,>=4.0.1 in /Users/sandramada/Library/Python/3.9/lib/python/site-packages (from gitpython!=3.1.19,<4,>=3.0.7->streamlit==1.28.2->-r requirements.txt (line 3)) (4.0.11)\n",
      "Requirement already satisfied: smmap<6,>=3.0.1 in /Users/sandramada/Library/Python/3.9/lib/python/site-packages (from gitdb<5,>=4.0.1->gitpython!=3.1.19,<4,>=3.0.7->streamlit==1.28.2->-r requirements.txt (line 3)) (5.0.1)\n",
      "Requirement already satisfied: httpcore==1.* in /Users/sandramada/Library/Python/3.9/lib/python/site-packages (from httpx<1,>=0.23.0->openai==1.3.5->-r requirements.txt (line 1)) (1.0.5)\n",
      "Requirement already satisfied: certifi in /Users/sandramada/Library/Python/3.9/lib/python/site-packages (from httpx<1,>=0.23.0->openai==1.3.5->-r requirements.txt (line 1)) (2024.7.4)\n",
      "Requirement already satisfied: h11<0.15,>=0.13 in /Users/sandramada/Library/Python/3.9/lib/python/site-packages (from httpcore==1.*->httpx<1,>=0.23.0->openai==1.3.5->-r requirements.txt (line 1)) (0.14.0)\n",
      "Requirement already satisfied: zipp>=0.5 in /Users/sandramada/Library/Python/3.9/lib/python/site-packages (from importlib-metadata<7,>=1.4->streamlit==1.28.2->-r requirements.txt (line 3)) (3.19.2)\n",
      "Requirement already satisfied: rpds-py>=0.7.1 in /Users/sandramada/Library/Python/3.9/lib/python/site-packages (from jsonschema>=3.0->altair<6,>=4.0->streamlit==1.28.2->-r requirements.txt (line 3)) (0.18.1)\n",
      "Requirement already satisfied: referencing>=0.28.4 in /Users/sandramada/Library/Python/3.9/lib/python/site-packages (from jsonschema>=3.0->altair<6,>=4.0->streamlit==1.28.2->-r requirements.txt (line 3)) (0.35.1)\n",
      "Requirement already satisfied: jsonschema-specifications>=2023.03.6 in /Users/sandramada/Library/Python/3.9/lib/python/site-packages (from jsonschema>=3.0->altair<6,>=4.0->streamlit==1.28.2->-r requirements.txt (line 3)) (2023.12.1)\n",
      "Requirement already satisfied: attrs>=22.2.0 in /Users/sandramada/Library/Python/3.9/lib/python/site-packages (from jsonschema>=3.0->altair<6,>=4.0->streamlit==1.28.2->-r requirements.txt (line 3)) (23.2.0)\n",
      "Requirement already satisfied: tzdata>=2022.7 in /Users/sandramada/Library/Python/3.9/lib/python/site-packages (from pandas<3,>=1.3.0->streamlit==1.28.2->-r requirements.txt (line 3)) (2024.1)\n",
      "Requirement already satisfied: pytz>=2020.1 in /Users/sandramada/Library/Python/3.9/lib/python/site-packages (from pandas<3,>=1.3.0->streamlit==1.28.2->-r requirements.txt (line 3)) (2024.1)\n",
      "Requirement already satisfied: annotated-types>=0.4.0 in /Users/sandramada/Library/Python/3.9/lib/python/site-packages (from pydantic<3,>=1.9.0->openai==1.3.5->-r requirements.txt (line 1)) (0.7.0)\n",
      "Requirement already satisfied: pydantic-core==2.20.1 in /Users/sandramada/Library/Python/3.9/lib/python/site-packages (from pydantic<3,>=1.9.0->openai==1.3.5->-r requirements.txt (line 1)) (2.20.1)\n",
      "Requirement already satisfied: MarkupSafe>=2.0 in /Users/sandramada/Library/Python/3.9/lib/python/site-packages (from jinja2->altair<6,>=4.0->streamlit==1.28.2->-r requirements.txt (line 3)) (2.1.5)\n",
      "Requirement already satisfied: urllib3<3,>=1.21.1 in /Users/sandramada/Library/Python/3.9/lib/python/site-packages (from requests<3,>=2.27->streamlit==1.28.2->-r requirements.txt (line 3)) (1.26.6)\n",
      "Requirement already satisfied: charset-normalizer<4,>=2 in /Users/sandramada/Library/Python/3.9/lib/python/site-packages (from requests<3,>=2.27->streamlit==1.28.2->-r requirements.txt (line 3)) (3.3.2)\n",
      "Requirement already satisfied: markdown-it-py>=2.2.0 in /Users/sandramada/Library/Python/3.9/lib/python/site-packages (from rich<14,>=10.14.0->streamlit==1.28.2->-r requirements.txt (line 3)) (3.0.0)\n",
      "Requirement already satisfied: pygments<3.0.0,>=2.13.0 in /Users/sandramada/Library/Python/3.9/lib/python/site-packages (from rich<14,>=10.14.0->streamlit==1.28.2->-r requirements.txt (line 3)) (2.18.0)\n",
      "Requirement already satisfied: mdurl~=0.1 in /Users/sandramada/Library/Python/3.9/lib/python/site-packages (from markdown-it-py>=2.2.0->rich<14,>=10.14.0->streamlit==1.28.2->-r requirements.txt (line 3)) (0.1.2)\n",
      "\u001b[33mWARNING: You are using pip version 21.2.4; however, version 24.1.1 is available.\n",
      "You should consider upgrading via the '/Library/Developer/CommandLineTools/usr/bin/python3 -m pip install --upgrade pip' command.\u001b[0m\n",
      "Note: you may need to restart the kernel to use updated packages.\n"
     ]
    }
   ],
   "source": [
    "pip install -r requirements.txt"
   ]
  },
  {
   "cell_type": "code",
   "execution_count": 7,
   "metadata": {},
   "outputs": [],
   "source": [
    "def describe_image(image_path): \n",
    "    response = client.chat.completions.create(\n",
    "    model=MODEL,\n",
    "    messages=[\n",
    "        {\n",
    "        \"role\": \"user\",\n",
    "        \"content\": [\n",
    "            {\"type\": \"text\", \"text\": PROMPT},\n",
    "            {\n",
    "            \"type\": \"image_url\",\n",
    "            \"image_url\": {\n",
    "                \"url\": image_path,\n",
    "            },\n",
    "            },\n",
    "        ],\n",
    "        }\n",
    "    ],\n",
    "    max_tokens=300,\n",
    "    )\n",
    "    return response.choices[0].message.content"
   ]
  },
  {
   "cell_type": "code",
   "execution_count": 13,
   "metadata": {},
   "outputs": [
    {
     "name": "stdout",
     "output_type": "stream",
     "text": [
      "Description:\n",
      "\u001b[32mThis image captures a serene sunset at the beach, where the sun is a vibrant orb nearing the horizon, casting a golden glow over the scene\n",
      " Gentle waves are breaking near the shore, and a scattering of rocks is partially visible in the background, silhouetted against the glowing sky\n",
      "\u001b[39m\n"
     ]
    }
   ],
   "source": [
    "description = describe_image(IMAGE_URL)\n",
    "word_wrap = \"\\n\".join(description.split(\".\"))\n",
    "print(f\"Description:\\n{Fore.GREEN}{word_wrap}{Fore.RESET}\")"
   ]
  }
 ],
 "metadata": {
  "kernelspec": {
   "display_name": "Python 3",
   "language": "python",
   "name": "python3"
  },
  "language_info": {
   "codemirror_mode": {
    "name": "ipython",
    "version": 3
   },
   "file_extension": ".py",
   "mimetype": "text/x-python",
   "name": "python",
   "nbconvert_exporter": "python",
   "pygments_lexer": "ipython3",
   "version": "3.9.6"
  }
 },
 "nbformat": 4,
 "nbformat_minor": 2
}
